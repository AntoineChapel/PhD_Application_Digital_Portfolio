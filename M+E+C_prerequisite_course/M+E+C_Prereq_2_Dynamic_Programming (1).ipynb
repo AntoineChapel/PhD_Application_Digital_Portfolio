{
 "cells": [
  {
   "cell_type": "markdown",
   "metadata": {},
   "source": [
    "# <center>Lecture 2: Dynamic Programming</center>\n",
    "## <center>Antoine Chapel (Sciences Po & PSE) </center>\n",
    "## <center>Alfred Galichon's [math+econ+code](https://www.math-econ-code.org/) prerequisite class on numerical optimization and econometrics, in Python </center>\n",
    "Class content by Antoine Chapel. Past and present support from Alfred Galichon's ERC grant CoG-866274 is acknowledged, as well as inputs from contributors listed [here](https://www.math-econ-code.org/team). If you reuse material from this class, please cite as:\n",
    "\n",
    "Antoine Chapel, 'math+econ+code' prerequisite class on numerical optimization and econometrics, January 2023"
   ]
  },
  {
   "cell_type": "markdown",
   "metadata": {},
   "source": [
    "#### References\n",
    "\n",
    "* A first course in Optimization theory (Sundaram, R.), 1996\n",
    "* Further Mathematics for Economic Analysis 2nd Ed (Sydsaeter et al), 2008\n",
    "* Dynamic Programming and Optimal Control 4th Ed (Bertsekas), 2018 (Advanced)\n",
    "\n",
    "\n"
   ]
  },
  {
   "cell_type": "markdown",
   "metadata": {},
   "source": [
    "## Introduction and motivation\n",
    "\n",
    "A dynamic programming problem is an optimization problem in which decisions are taken sequentially over several time periods (Sundaram).\n",
    "\n",
    "Typically, a dynamic optimization problem arises when actions today have consequences tomorrow. You have probably solved dynamic programming problems already, at least in problems with a finite horizon.\n",
    "\n",
    "The specificity of DP problems is that they are set up in discrete time. Time is index with $t = 1,2,3...,T/\\infty$. Two main subtypes of DP problems exist:\n",
    "* Finite-Horizon Dynamic Programming (FHDP), in which time stops at $T < \\infty$\n",
    "* Infinite-Horizon/Stationary Dynamic Programming (SDP), in which the agents plans as if he was immortal.\n",
    "\n",
    "Many interesting problems (such as matching), have a dynamic counterpart and the analysis of these problems is technically and intellectually challenging. Under the form of dynamic discrete choice, dynamic programming also has applications in econometrics. In any case, you should have a good understanding of dynamic programming to tackle any graduate macroeconomics class."
   ]
  },
  {
   "cell_type": "markdown",
   "metadata": {},
   "source": [
    "## Outline\n",
    "* FHDP: general setup of the problem\n",
    "* How to solve an FHDP\n",
    "* SDP: general setup"
   ]
  },
  {
   "cell_type": "markdown",
   "metadata": {},
   "source": [
    "### Finite Horizon DP\n",
    "#### The general setup"
   ]
  },
  {
   "cell_type": "markdown",
   "metadata": {},
   "source": [
    "Here is the general form of a FHDP problem:\n",
    "\n",
    "\\begin{align}\n",
    "\\max_{\\{u_t\\}_{t=0}^T \\in U}  & \\, \\sum_{t=0}^T f(x_t, u_t) \\\\\n",
    "s.t: & \\ x_{t+1} = g(x_t, u_t) \\\\\n",
    "& \\ x_0 \\hspace{5pt} \\text{given}\n",
    "\\end{align}\n",
    "\n",
    "$x_t$ is the **state** variable. A key rule of DP is that the state should contain all the information available and necessary for the agent to make the optimal decision. In the simple problems we will tackle here, $x_t$ will be a real number. $x_0$ is given: it is the inital state.\n",
    "\n",
    "$u_t$ is the decision, called the **control** of the agent. It belongs to a set $U$. For example, in the consumption problem we are about to describe, $u$ represents consumption, and it cannot be higher than the total amount of resource available (if we exclude credit of course).\n",
    "\n",
    "$g$ is the transition function: taking the state $x_t$ at $t$ and the decision $u_t$ at $t$ (and time) as input, it outputs the new state.\n",
    "\n",
    "$f$ is the objective function. In economics, it is typically some measure of utility, profit, or welfare in general. It depends on time, the state, and the decision taken by the agent.\n",
    "\n",
    "#### Example: dynamic consumption\n",
    "This is the \"Hello World\" of Dynamic Programming for economists.\n",
    "$x_t$ is the agent's wealth at time $t$. The control $u_t$ is the proportion of wealth that the agent consumes: $c_t = u_t x_t$. The remaining $(1 - u_t) x_t$ are invested and come back with an interest rate at $x_{t+1} = \\rho (1 - u_t) x_t$."
   ]
  },
  {
   "cell_type": "markdown",
   "metadata": {},
   "source": [
    "### How to solve a FHDP problem.\n",
    "\n",
    "Given the assumption that $x_t$ contains all necessary information, it should be possible, at any $t$, to define by $V(x_t)$ the **value** of being at $x$, at $t$. Let's suppose that tomorrow, at $t=s+1$, we know what the optimal control $u_t^*$ should be for $t = s+1, s+2,...,T$. Then, we could write:\n",
    "\\begin{align}\n",
    "V(x_{s+1}) = \\sum_{t=s+1}^T f(x_t, u_t^*)\n",
    "\\end{align}\n",
    "\n",
    "Now, let's go back one day: today, at $t=s$. If the agent knows $V(x_{s+1})$ and the transition function $x_{s+1} = g(x_{s}, u_{s})$, the only thing the agent has to do is to find the control $u_{s}$ that maximizes\n",
    "$$f(x_{s}, u_{s}) + V(g(x_{s}, u_{s}))$$\n",
    "\n",
    "Finding this optimal control **today** is a static problem it only depends on present variables: the agent tries to find the control that maximizes his welfare today and brings him to the most favourable state **tomorrow** (the one where the value function V is highest).\n",
    "\n",
    "Then, today if the agent knows $V(x_{s+1})$ and $\\{u_t^*\\}_{s+1}^T$, he can determine $u_s^*$. Then, he can compute $V(x_s)$, which allows him to go still one day earlier, determine the optimal control then, and so on. This is the fundamental equation of Dynamic Programming, that allows us to write sequentially what would otherwise be a diffult problem:\n",
    "\n",
    "\\begin{align}\n",
    "V(x_t) = max_{u_t \\in U} \\Big[ f(x_t, u_t) + V( x_{t+1} ) \\Big]\n",
    "\\end{align}\n",
    "\n",
    "To solve this type of problem, you need to start from the last point in time: at $t=T$ there is no tomorrow, so the agent just optimizes for today: $V(x_T) = max_{u_T \\in U} f(x_T, u_T)$. Then, you go one day before and solve for $u_{T-1}^*$ by optimizing as shown. This process of moving backwards in time to solve a sequential problem is called **backwards induction**.\n"
   ]
  },
  {
   "cell_type": "markdown",
   "metadata": {},
   "source": [
    "Exercise: solve the following FHDP problem:\n",
    "        \n",
    "\\begin{align}\n",
    "max_u \\sum_{t=0}^2 (1 + x_t - u_t^2), \\\\\n",
    "x_{t+1} &= x_t + u_t, \\\\\n",
    "x_0 &= 0, \\\\\n",
    "u_t &\\in \\mathbb{R}\n",
    "\\end{align}\n",
    "\n",
    "\n",
    "$t=2: \\hspace{10pt} V(x_T) = \\max_{u_2} 1 + x_2 - u_2^2$\n",
    "\n",
    "Clearly, $u_2^* = 0$. So, $V(x_T) = 1 + x_2^*$\n",
    "\n",
    "$t=1: \\hspace{10pt} V(x_1) = \\max_{u_1} 1 + x_1 - u_1^2 + V(x_T)$\n",
    "\n",
    "$ \\hspace{60pt} = \\max_{u_1} 1 + x_1 - u_1^2 + 1 + x_2$\n",
    "\n",
    "$ \\hspace{60pt} = \\max_{u_1} 1 + x_1 - u_1^2 + 1 + x_1 + u_1$\n",
    "\n",
    "FOC: $-2u_1 + 1 = 0 \\Leftrightarrow u_1^* = \\frac{1}{2}$ (Concavity is trivial)\n",
    "\n",
    "$\\Rightarrow V(x_1) = 1 + x_1^* - \\frac{1}{4} + 1 + x_1^* + \\frac{1}{2} = 2 x_1^* + \\frac{9}{4}$\n",
    "\n",
    "\n",
    "$t=0: \\hspace{10pt} V(x_0) = \\max_{u_0} 1 + x_0 - u_0^2 + 2x_1^* + \\frac{9}{4}$\n",
    "\n",
    "$ \\hspace{60pt} =  \\max_{u_0} 1 + x_0 - u_0^2 + 2(x_0 + u_0) + \\frac{9}{4}$\n",
    "\n",
    "FOC: $-2u_0 + 2 = 0 \\Leftrightarrow u_0^* = 1$ (Concavity is trivial again)\n",
    "\n",
    "So, given the initial state $x_0=0$, the optimal sequence of actions and states is the following:\n",
    "* $t=0$: $x_0=0$, $u_0^* = 1$\n",
    "* $t=1$: $x_1=1$, $u_1^* = \\frac{1}{2}$\n",
    "* $t=2$: $x_2=\\frac{3}{2}$, $u_2^* = \\frac{1}{4}$"
   ]
  },
  {
   "cell_type": "markdown",
   "metadata": {},
   "source": [
    "## A word on Stationary Dynamic Programming"
   ]
  },
  {
   "cell_type": "markdown",
   "metadata": {},
   "source": [
    "Conceiving dynamic programming at an infinite horizon requires a bit of a conceptual jump from finite horizon dynamic programming.\n",
    "\n",
    "First, why is it called \"stationary\" ? If an agent lives forever, he is free from a strategic use of the time, and therefore he will find an optimal consumption level, and a consumption rule that allows him to reach that optimal consumption level."
   ]
  },
  {
   "cell_type": "markdown",
   "metadata": {},
   "source": [
    "### General setup\n",
    "\\begin{align}\n",
    "\\max_{\\{u_t\\}_{t=0}^T \\in U}  & \\, \\sum_{t=0}^{\\infty} \\beta^t f(x_t, u_t) \\\\\n",
    "s.t: & \\ x_{t+1} = g(x_t, u_t) \\\\\n",
    "& \\ x_0 \\hspace{5pt} \\text{given}\n",
    "\\end{align}\n",
    "\n",
    "\n",
    "This is very close to the finite setting. The modifications is that now, the agent optimizes an infinite sum. To avoid that this infinite sum diverges to $+\\infty$, the future flows of utility are discounted with $\\beta \\in (0,1)$. This way, at moment $t$, if $\\beta=0.8$, utility today is weighted $\\beta^0 = 1$, utility tomorrow is weighted $\\beta^1 = 0.8$, after tomorrow $\\beta^2 = 0.64$, etc. The higher $\\beta$, the more **patient** the agent is.\n",
    "\n",
    "Since the behaviour is stationary, the goal of SDP is to find a fixed **policy function** $h$, a function that takes the state as input, and returns a value for the control. The goal is that, once this policy function is known, the whole system can be simulated with the policy function and the transition function: $u_t = h(x_t)$ and $x_{t+1} = g(x_t, u_t)$, starting from any $x_0$ given."
   ]
  },
  {
   "cell_type": "markdown",
   "metadata": {},
   "source": [
    "#### Rewriting the SDP problem as a sequential problem:\n",
    "\n",
    "Let us suppose that we are at time $t = 0$. The problem that the agent has to solve is the following:\n",
    "\n",
    "\\begin{align}\n",
    "V(x_0) = \\max & \\, \\sum_{t=0}^{\\infty} \\beta^t f(x_t, u_t) \\\\\n",
    "= \\max & \\, f(x_0, u_0) + \\sum_{t=1}^\\infty \\beta^t f(x_t, u_t) \\\\\n",
    "= \\max & \\, f(x_0, u_0) + \\beta \\sum_{t=1}^\\infty \\beta^{t-1} f(x_t, u_t) \\\\\n",
    "= \\max & \\, f(x_0, u_0) + \\beta V(x_1)\n",
    "\\end{align}\n",
    "\n",
    "\n",
    "Since the problem is stationary, the time indexes do not matter: we can denote $x$ for any $x_t$ and $x'$ for any $x_{t+1}$\n",
    "\n",
    "\n",
    "\\begin{align}\n",
    "V(x) = \\max f(x, u) + \\beta V(x')\n",
    "\\end{align}"
   ]
  },
  {
   "cell_type": "markdown",
   "metadata": {},
   "source": [
    "## Value Function Iteration\n",
    "\n",
    "Solving this sort of problem requires a numerical procedure called Value Function Iteration. It is instrumental in macro models such as DSGE. Here, we will see the non-stochastic version of that model.\n",
    "Consider you want to maximize the following problem: \n",
    "\n",
    "\\begin{align}\n",
    "\\max_{\\{c_t\\}_{t=0}^{\\infty}}  & \\, \\sum_{t=0}^{\\infty} \\beta^t u(c_t) \\\\\n",
    "s.t: & \\ k_{t+1} + c_{t} = f(k_t) \\\\\n",
    "& \\ k_0 \\hspace{5pt} \\text{given}\n",
    "\\end{align}\n",
    "\n",
    "At every period, the agents \"looks\" at his stock of capital, and decides how much to consume based on this. So, the \"state\" is capital $k$. The problem can be written recursively as follows:\n",
    "\n",
    "\\begin{align}\n",
    "V(k_0) = \\max_{\\{0 < k_1 < f(k_0)\\}_{t=0}^{\\infty}} \\{ u\\Big(f(k_0) - k_1\\Big) + \\beta V(k_1)\\}\n",
    "\\end{align}\n",
    "\n",
    "Since the problem is infinite horizon, the solution (if it exists) is stationary: what is valid for some $k_0$ and $k_1$ (taken arbitrarily as a starting point between $-\\infty$ and $+\\infty$, must be valid for any $k$ and $k'$. Also, to have a specific functional form for $f$ and $u$ in mind, we rewrite the problem:\n",
    "\n",
    "\\begin{align}\n",
    "V(k) = \\max_{\\{0 < k' < A(k^\\alpha)\\}_{t=0}^{\\infty}} \\{ \\log(Ak^\\alpha - k') + \\beta V(k')\\}\n",
    "\\end{align}\n"
   ]
  },
  {
   "cell_type": "code",
   "execution_count": 1,
   "metadata": {},
   "outputs": [
    {
     "name": "stdout",
     "output_type": "stream",
     "text": [
      "iteration:  1  error:  3.884757641783117\n",
      "iteration:  2  error:  2.882083935801659\n",
      "iteration:  3  error:  2.5089908990608283\n",
      "iteration:  4  error:  2.2329620751402928\n",
      "iteration:  5  error:  2.000399429882627\n",
      "iteration:  6  error:  1.7965668564188917\n",
      "iteration:  7  error:  1.615285261725461\n",
      "iteration:  8  error:  1.4530296087434174\n",
      "iteration:  9  error:  1.307415874014488\n",
      "iteration:  10  error:  1.1765199082665276\n",
      "iteration:  11  error:  1.058803635426532\n",
      "iteration:  12  error:  0.9528926646095286\n",
      "iteration:  13  error:  0.8575913772309605\n",
      "iteration:  14  error:  0.7718319480552651\n",
      "iteration:  15  error:  0.694641689662955\n",
      "iteration:  16  error:  0.6251775206966599\n",
      "iteration:  17  error:  0.5626597686269932\n",
      "iteration:  18  error:  0.506393791764296\n",
      "iteration:  19  error:  0.455754412587865\n",
      "iteration:  20  error:  0.4101789713290813\n",
      "iteration:  21  error:  0.36916107419617816\n",
      "iteration:  22  error:  0.33224496677656035\n",
      "iteration:  23  error:  0.29902047009890254\n",
      "iteration:  24  error:  0.2691184230890151\n",
      "iteration:  25  error:  0.24220658078011326\n",
      "iteration:  26  error:  0.21798592270210193\n",
      "iteration:  27  error:  0.19618733043188996\n",
      "iteration:  28  error:  0.17656859738870168\n",
      "iteration:  29  error:  0.1589117376498379\n",
      "iteration:  30  error:  0.1430205638848534\n",
      "iteration:  31  error:  0.12871850749636948\n",
      "iteration:  32  error:  0.11584665674673289\n",
      "iteration:  33  error:  0.10426199107206457\n",
      "iteration:  34  error:  0.0938357919648567\n",
      "iteration:  35  error:  0.08445221276837245\n",
      "iteration:  36  error:  0.076006991491532\n",
      "iteration:  37  error:  0.06840629234238094\n",
      "iteration:  38  error:  0.061565663108144264\n",
      "iteration:  39  error:  0.05540909679733019\n",
      "iteration:  40  error:  0.04986818711759966\n",
      "iteration:  41  error:  0.04488136840583934\n",
      "iteration:  42  error:  0.040393231565253984\n",
      "iteration:  43  error:  0.03635390840873498\n",
      "iteration:  44  error:  0.03271851756786148\n",
      "iteration:  45  error:  0.029446665811072137\n",
      "iteration:  46  error:  0.026501999229967765\n",
      "iteration:  47  error:  0.023851799306971344\n",
      "iteration:  48  error:  0.021466619376276697\n",
      "iteration:  49  error:  0.019319957438654\n",
      "iteration:  50  error:  0.01738796169478718\n",
      "iteration:  51  error:  0.015649165525310593\n",
      "iteration:  52  error:  0.014084248972778823\n",
      "iteration:  53  error:  0.012675824075500941\n",
      "iteration:  54  error:  0.011408241667950847\n",
      "iteration:  55  error:  0.010267417501161447\n",
      "iteration:  56  error:  0.009240675751048144\n",
      "iteration:  57  error:  0.008316608175942264\n",
      "iteration:  58  error:  0.007484947358342708\n",
      "iteration:  59  error:  0.00673645262251199\n",
      "iteration:  60  error:  0.006062807360265765\n",
      "iteration:  61  error:  0.005456526624236346\n",
      "iteration:  62  error:  0.004910873961815554\n",
      "iteration:  63  error:  0.004419786565634354\n",
      "iteration:  64  error:  0.003977807909073761\n",
      "iteration:  65  error:  0.003580027118168516\n",
      "iteration:  66  error:  0.0032220244063516645\n",
      "iteration:  67  error:  0.0028998219657196955\n",
      "iteration:  68  error:  0.0026098397691498576\n",
      "iteration:  69  error:  0.002348855792234872\n",
      "iteration:  70  error:  0.0021139702130135163\n",
      "iteration:  71  error:  0.001902573191713941\n",
      "iteration:  72  error:  0.001712315872545389\n",
      "iteration:  73  error:  0.0015410842852929818\n",
      "iteration:  74  error:  0.0013869758567679469\n",
      "iteration:  75  error:  0.00124827827108831\n",
      "iteration:  76  error:  0.0011234504439840975\n",
      "iteration:  77  error:  0.0010111053995842667\n",
      "iteration:  78  error:  0.00090999485962584\n",
      "iteration:  79  error:  0.000818995373663256\n",
      "iteration:  80  error:  0.0007370958362997726\n",
      "iteration:  81  error:  0.0006633862526683743\n",
      "iteration:  82  error:  0.0005970476274015368\n",
      "iteration:  83  error:  0.0005373428646642253\n",
      "iteration:  84  error:  0.0004836085782002897\n",
      "iteration:  85  error:  0.00043524772038239234\n",
      "iteration:  86  error:  0.000391722948350548\n",
      "iteration:  87  error:  0.00035255065350980885\n",
      "iteration:  88  error:  0.0003172955881609596\n",
      "iteration:  89  error:  0.0002855660293477058\n",
      "iteration:  90  error:  0.0002570094264129352\n",
      "iteration:  91  error:  0.0002313084837730628\n",
      "iteration:  92  error:  0.00020817763539682232\n",
      "iteration:  93  error:  0.00018735987185891645\n",
      "iteration:  94  error:  0.00016862388467231426\n",
      "iteration:  95  error:  0.0001517614962054381\n",
      "iteration:  96  error:  0.000136585346588447\n",
      "iteration:  97  error:  0.0001229268119296023\n",
      "iteration:  98  error:  0.00011063413073486572\n",
      "iteration:  99  error:  9.95707176656424e-05\n",
      "iteration:  100  error:  8.96136459047625e-05\n",
      "iteration:  101  error:  8.065228131570734e-05\n",
      "iteration:  102  error:  7.258705318236025e-05\n",
      "iteration:  103  error:  6.532834786554531e-05\n",
      "iteration:  104  error:  5.8795513080411865e-05\n",
      "iteration:  105  error:  5.2915961774147036e-05\n",
      "iteration:  106  error:  4.76243655995745e-05\n",
      "iteration:  107  error:  4.286192903890651e-05\n",
      "iteration:  108  error:  3.8575736134305316e-05\n",
      "iteration:  109  error:  3.47181625244275e-05\n",
      "iteration:  110  error:  3.1246346271274206e-05\n",
      "iteration:  111  error:  2.812171165089694e-05\n",
      "iteration:  112  error:  2.5309540490070503e-05\n",
      "iteration:  113  error:  2.2778586441063453e-05\n",
      "iteration:  114  error:  2.050072779979928e-05\n",
      "iteration:  115  error:  1.845065501981935e-05\n",
      "iteration:  116  error:  1.6605589514995245e-05\n",
      "iteration:  117  error:  1.4945030564206263e-05\n",
      "iteration:  118  error:  1.345052751133835e-05\n",
      "iteration:  119  error:  1.2105474759493973e-05\n",
      "iteration:  120  error:  1.0894927285676204e-05\n",
      "iteration:  121  error:  9.805434554976955e-06\n"
     ]
    }
   ],
   "source": [
    "import numpy as np\n",
    "import matplotlib.pyplot as plt\n",
    "\n",
    "kmax = 30\n",
    "precision=200\n",
    "\n",
    "kgrid = np.linspace(1, kmax, precision)\n",
    "gk = np.linspace(1, kmax, precision)\n",
    "Vk0 = np.ones(precision)\n",
    "\n",
    "A=10\n",
    "α=0.5\n",
    "β=0.9\n",
    "\n",
    "norm = 1e5\n",
    "tol = 1e-5\n",
    "maxiter=1000\n",
    "n_iter=0\n",
    "\n",
    "\n",
    "Vk = Vk0\n",
    "while n_iter < maxiter and norm > tol:\n",
    "    value_array = np.empty((precision, precision))\n",
    "    \n",
    "    for iprim, kprim in enumerate(kgrid):\n",
    "        for i, k in enumerate(kgrid):\n",
    "            c = A*(k**α) - kprim\n",
    "            if c > 0:\n",
    "                value_array[i, iprim] = np.log(c) + β*Vk[iprim] \n",
    "            else:\n",
    "                value_array[i, iprim] = -np.inf\n",
    "                \n",
    "    Vkprim = np.empty(precision)\n",
    "    for row in range(value_array.shape[1]):\n",
    "        gk[row] = kgrid[int(np.argmax(value_array[row, :]))]\n",
    "        Vkprim[row] = np.max(value_array[row, :])\n",
    "    \n",
    "    norm = np.max(np.abs(Vkprim - Vk))\n",
    "    Vk = Vkprim\n",
    "    \n",
    "    n_iter += 1\n",
    "    print(\"iteration: \", n_iter, \" error: \", norm)"
   ]
  },
  {
   "cell_type": "code",
   "execution_count": 2,
   "metadata": {},
   "outputs": [],
   "source": [
    "kstar = kgrid[np.argmin(np.abs(gk - kgrid))]"
   ]
  },
  {
   "cell_type": "code",
   "execution_count": 3,
   "metadata": {},
   "outputs": [
    {
     "data": {
      "image/png": "[encoded data removed]",
      "text/plain": [
       "<Figure size 720x576 with 1 Axes>"
      ]
     },
     "metadata": {
      "needs_background": "light"
     },
     "output_type": "display_data"
    }
   ],
   "source": [
    "plt.rcParams[\"figure.figsize\"] = (10, 8)\n",
    "\n",
    "plt.plot(kgrid, gk, label=\"Optimal k'\")\n",
    "plt.plot(kgrid, kgrid, label=\"45° line\")\n",
    "plt.vlines(kstar, ymin=0, ymax=30, label=\"Equilibrium value k*\")\n",
    "\n",
    "plt.title(\"Value Function Iteration: \")\n",
    "plt.legend()\n",
    "plt.show()"
   ]
  },
  {
   "cell_type": "markdown",
   "metadata": {},
   "source": [
    "How to interpret this ? The blue line describes, for each $k_t$ on the horizontal axis, what should be the optimal $k_{t+1}$. When both coincide, this is the steady state: it gives the equilibrium value of capital $k^*$. The algorithm we used, VFI, is a type of a **fixed-point** algorithm. We started from a random $Vk0$ (which is not the blue line !) and computed present values pretending $Vk0$ was $V(k')$. Then, we looked at where the present values are the highest (optimization process) for every $k$ (line 36), and replaced our random $VkV0$ by that optimized $V(k')$. Of course it's still wrong, but if we repeat this procedure enough times, we can get arbitrarily close the the true $V(k')$."
   ]
  },
  {
   "cell_type": "markdown",
   "metadata": {},
   "source": [
    "Dynamic Programming also has a stochastic extension, in which the state transition involves probabilities. In such settings, the number of possible states can very quickly explode and become intractable: that's called the **curse of dimensionality**. Algorithms from the Artificial Intelligence literature are strongly connected to the ones we presented here (think of the position of pieces on the chess board as being the state, and the control as being the move that can be made by the chess player).\n",
    "\n",
    "If you are interested in these topics, you are invited to take a look at Dimitri Bertsekas's website, and especially his [work on Dynamic Programming](http://www.athenasc.com/dpbook.html)"
   ]
  }
 ],
 "metadata": {
  "kernelspec": {
   "display_name": "Python 3",
   "language": "python",
   "name": "python3"
  },
  "language_info": {
   "codemirror_mode": {
    "name": "ipython",
    "version": 3
   },
   "file_extension": ".py",
   "mimetype": "text/x-python",
   "name": "python",
   "nbconvert_exporter": "python",
   "pygments_lexer": "ipython3",
   "version": "3.7.4"
  }
 },
 "nbformat": 4,
 "nbformat_minor": 2
}
